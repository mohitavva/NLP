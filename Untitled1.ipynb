{
 "cells": [
  {
   "cell_type": "code",
   "execution_count": 46,
   "id": "2841d464-b76f-419d-bce5-0ee23a02082a",
   "metadata": {},
   "outputs": [],
   "source": [
    "import pandas as pd\n",
    "import numpy as np\n",
    "import tensorflow_datasets as tfds\n",
    "import tensorflow as tf\n",
    "from datasets import load_dataset"
   ]
  },
  {
   "cell_type": "code",
   "execution_count": 47,
   "id": "df512161-7dce-462c-992e-e5c142d892eb",
   "metadata": {},
   "outputs": [
    {
     "name": "stderr",
     "output_type": "stream",
     "text": [
      "/Users/rakesh/miniconda3/lib/python3.10/site-packages/datasets/load.py:1429: FutureWarning: The repository for wikipedia contains custom code which must be executed to correctly load the dataset. You can inspect the repository content at https://hf.co/datasets/wikipedia\n",
      "You can avoid this message in future by passing the argument `trust_remote_code=True`.\n",
      "Passing `trust_remote_code=True` will be mandatory to load this dataset from the next major release of `datasets`.\n",
      "  warnings.warn(\n",
      "Downloading builder script: 100%|███████████| 35.9k/35.9k [00:00<00:00, 409kB/s]\n",
      "Downloading readme: 100%|██████████████████| 16.3k/16.3k [00:00<00:00, 3.60MB/s]\n",
      "Downloading: 100%|██████████████████████████| 1.66k/1.66k [00:00<00:00, 462kB/s]\n",
      "Downloading: 100%|███████████████████████████| 235M/235M [00:45<00:00, 5.21MB/s]\n"
     ]
    }
   ],
   "source": [
    "# Data Downloading\n",
    "data=load_dataset(\"wikipedia\",\"20220301.simple\")"
   ]
  },
  {
   "cell_type": "code",
   "execution_count": null,
   "id": "d03d8dfa-a07f-42d9-8cfb-d0524a93f380",
   "metadata": {},
   "outputs": [],
   "source": [
    "# Data Extraction\n",
    "data_train = data[\"train\"]\n",
    "data_train = pd.DataFrame.from_dict(data_train)\n",
    "data_train.drop([\"id\",\"url\"],axis=1,inplace=True)"
   ]
  },
  {
   "cell_type": "code",
   "execution_count": null,
   "id": "4fa08d6e-8c11-4f3c-a961-71943f34534c",
   "metadata": {},
   "outputs": [],
   "source": []
  },
  {
   "cell_type": "code",
   "execution_count": null,
   "id": "cd812ca7-a7f7-453f-a454-dad1a66b45d6",
   "metadata": {},
   "outputs": [],
   "source": []
  },
  {
   "cell_type": "code",
   "execution_count": null,
   "id": "d71ad6e6-caf2-448e-98b1-923c56a9a234",
   "metadata": {},
   "outputs": [],
   "source": []
  }
 ],
 "metadata": {
  "kernelspec": {
   "display_name": "Python 3 (ipykernel)",
   "language": "python",
   "name": "python3"
  },
  "language_info": {
   "codemirror_mode": {
    "name": "ipython",
    "version": 3
   },
   "file_extension": ".py",
   "mimetype": "text/x-python",
   "name": "python",
   "nbconvert_exporter": "python",
   "pygments_lexer": "ipython3",
   "version": "3.10.10"
  }
 },
 "nbformat": 4,
 "nbformat_minor": 5
}
